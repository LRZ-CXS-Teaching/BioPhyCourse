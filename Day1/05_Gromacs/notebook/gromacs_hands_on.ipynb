{
 "cells": [
  {
   "cell_type": "code",
   "execution_count": null,
   "id": "af448228-baf8-4781-a603-17dd88cf5a75",
   "metadata": {},
   "outputs": [],
   "source": [
    "import os\n",
    "from subprocess import Popen, PIPE"
   ]
  },
  {
   "cell_type": "markdown",
   "id": "6ac3c166-90ae-4a63-8901-c7effef726f0",
   "metadata": {},
   "source": [
    "# Create and change to a directory to run our simulations"
   ]
  },
  {
   "cell_type": "code",
   "execution_count": null,
   "id": "6c91b4e2-c904-45ad-87db-b34a6b824a7c",
   "metadata": {},
   "outputs": [],
   "source": [
    "os.system(\"mkdir gromacs_sim_run\")"
   ]
  },
  {
   "cell_type": "code",
   "execution_count": null,
   "id": "62909954-6626-4d95-9286-e76ad2ad0d35",
   "metadata": {},
   "outputs": [],
   "source": [
    "os.chdir(\"gromacs_sim_run\")"
   ]
  },
  {
   "cell_type": "code",
   "execution_count": null,
   "id": "e03b6df2-dd4e-4410-9faf-02b5c0e7dca9",
   "metadata": {},
   "outputs": [],
   "source": [
    "os.system(\"cp ../BioPhyCourse-main/Day1/05_Gromacs/data/* ./\")"
   ]
  },
  {
   "cell_type": "code",
   "execution_count": null,
   "id": "5515d3b3-ba35-49f0-ae61-7c4e84d3bbc8",
   "metadata": {},
   "outputs": [],
   "source": [
    "os.system(\"pwd\")"
   ]
  },
  {
   "cell_type": "markdown",
   "id": "f8a2928f-baf4-4db4-b837-e5dfae8d07c8",
   "metadata": {},
   "source": [
    "# Editing simulation cell size and shape"
   ]
  },
  {
   "cell_type": "code",
   "execution_count": null,
   "id": "d44b1b74-693e-4dbb-9794-1c1bf02834ee",
   "metadata": {},
   "outputs": [],
   "source": [
    "os.system(\"gmx editconf -h\")"
   ]
  },
  {
   "cell_type": "code",
   "execution_count": null,
   "id": "cc4d125b-362e-47a3-ba4d-009b93380982",
   "metadata": {},
   "outputs": [],
   "source": [
    "os.system(\"gmx editconf -f 2YVB.pdb -box 6 6 6 -center 3 3 3 -o centered.pdb -angles 90 90 90\")"
   ]
  },
  {
   "cell_type": "markdown",
   "id": "676a86d2-6702-4aa2-83ad-e44fde960068",
   "metadata": {},
   "source": [
    "# Generating topology and hydrogen atoms for the x-ray structure"
   ]
  },
  {
   "cell_type": "code",
   "execution_count": null,
   "id": "05cff1c8-f900-45b7-abf6-bd8993aa2f4b",
   "metadata": {},
   "outputs": [],
   "source": [
    "os.system(\"gmx pdb2gmx -h\")"
   ]
  },
  {
   "cell_type": "code",
   "execution_count": null,
   "id": "65133d23-252f-4a3c-aada-ccae77f561a4",
   "metadata": {},
   "outputs": [],
   "source": [
    "os.system(\"gmx pdb2gmx -f centered.pdb -ff amber99sb-ildn -water spce -o protein.pdb -ignh -vsite hydrogens -p topol.top\")"
   ]
  },
  {
   "cell_type": "markdown",
   "id": "eb4ad6fa-1649-4b1b-a72c-5c3272f47c4a",
   "metadata": {},
   "source": [
    "# Generating water solvent"
   ]
  },
  {
   "cell_type": "code",
   "execution_count": null,
   "id": "dc516f61-9e7f-4ce4-b586-c5d6919e3901",
   "metadata": {},
   "outputs": [],
   "source": [
    "os.system(\"gmx solvate -cp protein.pdb -cs -o water.pdb\")"
   ]
  },
  {
   "cell_type": "code",
   "execution_count": null,
   "id": "f172c73d-3df1-483f-9973-e1badbee5355",
   "metadata": {},
   "outputs": [],
   "source": [
    "os.system(\"gmx grompp -f em.mdp -p topol.top -c water.pdb -o ion.tpr\")"
   ]
  },
  {
   "cell_type": "markdown",
   "id": "5baa4396-ee14-4871-954b-48f4c4db3878",
   "metadata": {},
   "source": [
    "# Generating ions"
   ]
  },
  {
   "cell_type": "code",
   "execution_count": null,
   "id": "8f60a9bd-e09f-49e7-98a3-65337b6af6ec",
   "metadata": {},
   "outputs": [],
   "source": [
    "os.system(\"gmx genion -h\")"
   ]
  },
  {
   "cell_type": "code",
   "execution_count": null,
   "id": "0f5afb3f-9f41-41b1-9000-657e935ed2e9",
   "metadata": {},
   "outputs": [],
   "source": [
    "p = Popen(\"gmx genion -s ion.tpr -conc 0.15 -neutral -o ion.pdb\".encode(), shell=True, stdin=PIPE)\n",
    "p.communicate('13\\n'.encode())"
   ]
  },
  {
   "cell_type": "markdown",
   "id": "87c56e22-c2ea-400e-a741-f61092dd6a50",
   "metadata": {},
   "source": [
    "# Performing energy minimization"
   ]
  },
  {
   "cell_type": "code",
   "execution_count": null,
   "id": "1f6e20f4-6913-44b4-8977-d5ce64f87a53",
   "metadata": {},
   "outputs": [],
   "source": [
    "os.system(\"gmx grompp -f em.mdp -p topol.top -c ion.pdb -o em.tpr\")"
   ]
  },
  {
   "cell_type": "code",
   "execution_count": null,
   "id": "9865f5cf-6178-48aa-a813-213d9aded507",
   "metadata": {},
   "outputs": [],
   "source": [
    "os.system(\"gmx mdrun -s em.tpr -c em.pdb -v\")"
   ]
  },
  {
   "cell_type": "markdown",
   "id": "56b982f3-b0c7-4114-8821-f5a931957759",
   "metadata": {},
   "source": [
    "# Performing solvent relaxation"
   ]
  },
  {
   "cell_type": "code",
   "execution_count": null,
   "id": "27a21d49-e49d-4883-af75-2a49b03cd231",
   "metadata": {},
   "outputs": [],
   "source": [
    "os.system(\"gmx grompp -f eq.mdp -p topol.top -c em.pdb -o eq.tpr -r em.pdb -maxwarn 1\")"
   ]
  },
  {
   "cell_type": "code",
   "execution_count": null,
   "id": "580ab43d-a39f-412a-9ed2-f8959fac82fa",
   "metadata": {},
   "outputs": [],
   "source": [
    "os.system(\"gmx mdrun -s eq.tpr -c eq.pdb -v -ntomp 4 -ntmpi 1 -pin on\")"
   ]
  },
  {
   "cell_type": "code",
   "execution_count": null,
   "id": "e6de4751-4716-4d77-bece-77b0a43a243b",
   "metadata": {},
   "outputs": [],
   "source": [
    "os.system(\"gmx grompp -f run.mdp -p topol.top -c eq.pdb -o run.tpr -r eq.pdb -maxwarn 1\")"
   ]
  },
  {
   "cell_type": "code",
   "execution_count": null,
   "id": "68151a99-9297-487c-a6d2-7646a7063fde",
   "metadata": {},
   "outputs": [],
   "source": []
  }
 ],
 "metadata": {
  "kernelspec": {
   "display_name": "Python 3.11 (base)",
   "language": "python",
   "name": "python3"
  },
  "language_info": {
   "codemirror_mode": {
    "name": "ipython",
    "version": 3
   },
   "file_extension": ".py",
   "mimetype": "text/x-python",
   "name": "python",
   "nbconvert_exporter": "python",
   "pygments_lexer": "ipython3",
   "version": "3.12.10"
  }
 },
 "nbformat": 4,
 "nbformat_minor": 5
}
