{
 "cells": [
  {
   "cell_type": "code",
   "execution_count": null,
   "id": "6df2ccf4-ed80-4dd9-bdc5-e68b43b0a4f6",
   "metadata": {},
   "outputs": [],
   "source": [
    "import os\n",
    "from subprocess import Popen, PIPE"
   ]
  },
  {
   "cell_type": "code",
   "execution_count": null,
   "id": "4f6ca21d-7e23-4186-8f74-bd3eae4713e6",
   "metadata": {},
   "outputs": [],
   "source": [
    "%cd\n",
    "os.chdir(\"gromacs_sim_run\")\n",
    "!pwd"
   ]
  },
  {
   "cell_type": "markdown",
   "id": "c3b6b453-6deb-454f-b6e2-d8df082ae89f",
   "metadata": {},
   "source": [
    "# Trajectory processing"
   ]
  },
  {
   "cell_type": "code",
   "execution_count": null,
   "id": "88f63f69-93e6-433e-a22d-f51422b37967",
   "metadata": {},
   "outputs": [],
   "source": [
    "!gmx trjconv -h\""
   ]
  },
  {
   "cell_type": "code",
   "execution_count": null,
   "id": "37081a1d-9f53-4a1b-a92c-1c7c70d1659b",
   "metadata": {},
   "outputs": [],
   "source": [
    "p = Popen(\"gmx trjconv -f traj_comp.xtc -pbc whole -s run.tpr -o trajout_whole.xtc\".encode(), shell=True, stdin=PIPE)\n",
    "p.communicate('0\\n'.encode())"
   ]
  },
  {
   "cell_type": "code",
   "execution_count": null,
   "id": "517baf75-d994-47a7-82f9-3727190e020d",
   "metadata": {},
   "outputs": [],
   "source": [
    "p = Popen(\"gmx trjconv -f trajout_whole.xtc -fit progressive -s run.tpr -o trajout_fit.xtc\".encode(), shell=True, stdin=PIPE)\n",
    "p.communicate('4\\n0\\n'.encode())"
   ]
  },
  {
   "cell_type": "markdown",
   "id": "e61d7215-4c84-4cde-838b-8235058db7d0",
   "metadata": {},
   "source": [
    "# Basic trajectory analysis"
   ]
  },
  {
   "cell_type": "code",
   "execution_count": null,
   "id": "cb31d0a3-042d-44c0-9e55-94eed47427f5",
   "metadata": {},
   "outputs": [],
   "source": [
    "gmx rms -h"
   ]
  },
  {
   "cell_type": "code",
   "execution_count": null,
   "id": "f5372928-923b-4a49-aad5-3091540dcdaa",
   "metadata": {},
   "outputs": [],
   "source": [
    "p = Popen(\"gmx rms -f traj_comp.xtc -s run.tpr \".encode(), shell=True, stdin=PIPE)\n",
    "p.communicate('4\\n4\\n'.encode())"
   ]
  },
  {
   "cell_type": "markdown",
   "id": "1a5c38bc-79b0-4887-99f8-6b4655dcf8b5",
   "metadata": {},
   "source": [
    "# Macroscopic observables"
   ]
  },
  {
   "cell_type": "code",
   "execution_count": null,
   "id": "13d54573-b217-405a-a20d-602d611324d2",
   "metadata": {},
   "outputs": [],
   "source": [
    "!gmx energy -h"
   ]
  },
  {
   "cell_type": "code",
   "execution_count": null,
   "id": "651113af-b7e2-4c98-b6eb-80ba9250ae39",
   "metadata": {},
   "outputs": [],
   "source": [
    "p = Popen(\"gmx energy -f ener.edr \".encode(), shell=True, stdin=PIPE)\n",
    "p.communicate('44\\n\\n'.encode())"
   ]
  }
 ],
 "metadata": {
  "kernelspec": {
   "display_name": "Python 3.11 (base)",
   "language": "python",
   "name": "python3"
  },
  "language_info": {
   "codemirror_mode": {
    "name": "ipython",
    "version": 3
   },
   "file_extension": ".py",
   "mimetype": "text/x-python",
   "name": "python",
   "nbconvert_exporter": "python",
   "pygments_lexer": "ipython3",
   "version": "3.12.10"
  }
 },
 "nbformat": 4,
 "nbformat_minor": 5
}
