{
 "cells": [
  {
   "cell_type": "markdown",
   "id": "acad00cd-a492-4ef7-ab73-dc5147621434",
   "metadata": {},
   "source": [
    "## **Introduction: Molecular modeling and simulation using Atomic Simulation Environment (ASE)**"
   ]
  },
  {
   "cell_type": "markdown",
   "id": "68ae532f-aaf9-4186-bb30-26b63289211b",
   "metadata": {},
   "source": [
    "Below steps outline a minimal working examples about ASE features"
   ]
  },
  {
   "cell_type": "markdown",
   "id": "24effc05-29f2-4aa6-aa78-f4dce6bc1244",
   "metadata": {},
   "source": [
    "## 1. OPTIONAL "
   ]
  },
  {
   "cell_type": "markdown",
   "id": "5d5af938-ac6a-47dc-9f86-185d093ec60b",
   "metadata": {},
   "source": [
    "### Create a virtual environment and install required packages. "
   ]
  },
  {
   "cell_type": "code",
   "execution_count": 1,
   "id": "53dd4f51-484f-4b34-aa48-dcbca97b4d1f",
   "metadata": {},
   "outputs": [],
   "source": [
    "# Create a virtual environment using: python3 -m venv ~/.venv-ase-cp2k . Then pip3 install jupyterhub jupyterlab.\n",
    "# Then open this notebook using jupyter-notebook NOTEBOOK.ipynb\n",
    "#! pip3 install ase==3.25.0 mdanalysis==2.9.0\n",
    "#! pip3 install nglview==3.1.4\n",
    "#! pip3 install jupyter-ai[all]"
   ]
  },
  {
   "cell_type": "markdown",
   "id": "81c3c613-19e5-44df-93e8-5d47ad1466b7",
   "metadata": {},
   "source": [
    "### Install cp2k"
   ]
  },
  {
   "cell_type": "code",
   "execution_count": 2,
   "id": "afa6fbaf-632a-473c-b7cd-2e64a9c5ec28",
   "metadata": {},
   "outputs": [],
   "source": [
    "# sudo apt-get install cp2k"
   ]
  },
  {
   "cell_type": "markdown",
   "id": "934fdf7f-771c-488f-8429-5fdd9a0d94b8",
   "metadata": {},
   "source": [
    "## 2. Import Required Libraries"
   ]
  },
  {
   "cell_type": "code",
   "execution_count": 3,
   "id": "92ecd936-d0e1-44ef-a65f-480d37a02b0d",
   "metadata": {},
   "outputs": [
    {
     "data": {
      "application/vnd.jupyter.widget-view+json": {
       "model_id": "187fdad9c6864d51b0775a3f4f98a6a7",
       "version_major": 2,
       "version_minor": 0
      },
      "text/plain": []
     },
     "metadata": {},
     "output_type": "display_data"
    }
   ],
   "source": [
    "import os\n",
    "import numpy as np\n",
    "import nglview as nv\n",
    "import matplotlib.pyplot as plt\n",
    "from ase import Atoms\n",
    "from ase.build import molecule, add_adsorbate\n",
    "from ase.io import write, read\n",
    "from ase.visualize import view\n",
    "from ase.md.velocitydistribution import MaxwellBoltzmannDistribution\n",
    "from ase.md.verlet import VelocityVerlet\n",
    "from ase.md.langevin import Langevin\n",
    "from ase.md.nvtberendsen import NVTBerendsen\n",
    "from ase import units\n",
    "from ase.optimize import QuasiNewton, BFGS\n",
    "from ase.io.trajectory import Trajectory\n",
    "from ase.calculators.emt import EMT\n",
    "from ase.calculators.cp2k import CP2K\n",
    "from ase.build import fcc110, fcc100\n",
    "from ase.constraints import FixAtoms\n",
    "from ase.optimize import QuasiNewton"
   ]
  },
  {
   "cell_type": "markdown",
   "id": "35d6842a-40cc-4b3c-a81a-9fbb726f0e9b",
   "metadata": {},
   "source": [
    "## 3. Molecular Modeling "
   ]
  },
  {
   "cell_type": "code",
   "execution_count": 4,
   "id": "3adefa6b-3f05-40de-a16f-74e77075b26c",
   "metadata": {},
   "outputs": [],
   "source": [
    "work_path = os.getcwd()"
   ]
  },
  {
   "cell_type": "code",
   "execution_count": 5,
   "id": "1c349a7b-0f48-4945-a1cd-f4d5b7248f98",
   "metadata": {},
   "outputs": [
    {
     "data": {
      "application/vnd.jupyter.widget-view+json": {
       "model_id": "86cc37f245784cd497070b4653275a04",
       "version_major": 2,
       "version_minor": 0
      },
      "text/plain": [
       "NGLWidget()"
      ]
     },
     "metadata": {},
     "output_type": "display_data"
    }
   ],
   "source": [
    "# Create benzene molecule\n",
    "benzene = molecule('C6H6')\n",
    "#benzene.rotate(90, 'x')\n",
    "write(\"benzene.xyz\", benzene)\n",
    "nv.show_ase(benzene)\n",
    "#view(benzene, viewer=\"ngl\")"
   ]
  },
  {
   "cell_type": "code",
   "execution_count": 6,
   "id": "f45cda47-d40b-4f3d-9ccd-cf63f38b472b",
   "metadata": {},
   "outputs": [
    {
     "data": {
      "application/vnd.jupyter.widget-view+json": {
       "model_id": "f25b3152dbdb41849054cc65be04d759",
       "version_major": 2,
       "version_minor": 0
      },
      "text/plain": [
       "NGLWidget()"
      ]
     },
     "metadata": {},
     "output_type": "display_data"
    }
   ],
   "source": [
    "# create slabs\n",
    "slab = fcc110('Cu', size=(8, 8, 4), vacuum=10.0) \n",
    "nv.show_ase(slab)\n"
   ]
  },
  {
   "cell_type": "markdown",
   "id": "a18f72df-d046-4ccc-827e-1089a174c98d",
   "metadata": {},
   "source": [
    "### Adsorption of Benzene on Copper, Silver, and Gold Surfaces J. Chem. Theory Comput. 2006, 2, 4, 1093–1105\n",
    "### Favourable hollow site (between four copper atoms) and the long-bridge site (between two copper atoms)"
   ]
  },
  {
   "cell_type": "markdown",
   "id": "cbf0b347-c4df-43da-9281-1144230d26aa",
   "metadata": {
    "scrolled": true
   },
   "source": [
    "# add adsorbate\n",
    "benzene.rotate(90, 'x')\n",
    "add_adsorbate(slab, benzene, position=(11,10), height=5)\n",
    "slab_vth_benzene = slab \n",
    "nv.show_ase(slab_vth_benzene)\n",
    "view(slab_vth_benzene, viewer=\"ngl\")"
   ]
  },
  {
   "cell_type": "markdown",
   "id": "2cc5e135-54fb-42f3-a26e-198bcbe41765",
   "metadata": {},
   "source": [
    "## 4. Add Calculator to atoms (add software that you want to use)"
   ]
  },
  {
   "cell_type": "code",
   "execution_count": 8,
   "id": "6e8ca619-64b5-4ef3-b58b-dd48d2957a06",
   "metadata": {},
   "outputs": [],
   "source": [
    "#slab_vth_benzene.center(vacuum=5.0)\n",
    "slab_vth_benzene.set_pbc([True, True, True])\n",
    "slab_vth_benzene.calc = EMT()  # Basic All-atom force field based\n",
    "\n",
    "# calc = CP2K(label='benzene',\n",
    "#            cutoff=250,\n",
    "#            basis_set='SZV-MOLOPT-GTH',\n",
    "#            pseudo_potential='auto',\n",
    "#            charge=0,\n",
    "#            xc='PBE',\n",
    "#            print_level='LOW',\n",
    "#            max_scf=20)\n",
    "#slab_vth_benzene.calc = calc"
   ]
  },
  {
   "cell_type": "markdown",
   "id": "72b85928-e1d8-430f-b494-bb2729643b3f",
   "metadata": {},
   "source": [
    "![Caclulators](https://https://ase-lib.org/_images/dftk.png)"
   ]
  },
  {
   "cell_type": "code",
   "execution_count": null,
   "id": "d278d897-7fc3-4037-b56d-5db3d39178b5",
   "metadata": {},
   "outputs": [],
   "source": [
    "## 5. Run Geometry Optimization"
   ]
  },
  {
   "cell_type": "code",
   "execution_count": null,
   "id": "d9977e8d-42e2-4e8e-91b8-233fb9bf3cf4",
   "metadata": {},
   "outputs": [],
   "source": [
    "opt = BFGS(slab_vth_benzene, trajectory=\"optimized.traj\", append_trajectory=False, logfile=\"opt.log\")\n",
    "energies = []\n",
    "\n",
    "def print_status(a=slab_vth_benzene):\n",
    "    epot = a.get_potential_energy()\n",
    "    ekin = a.get_kinetic_energy()\n",
    "    energies.append(epot+ekin)\n",
    "    print(f' Energy | Epot = {epot:.3f} eV | Ekin = {ekin:.3f} eV | Etot = {epot+ekin:.3f} eV')\n",
    "\n",
    "# One can attach functions to modify the output\n",
    "opt.attach(print_status, interval=1)\n",
    "print(\"Running optimization...\")\n",
    "opt.run(fmax=0.02, steps=20)\n",
    "print(\"Simulation complete.\")\n",
    "\n",
    "# One can run MD \n",
    "#MaxwellBoltzmannDistribution(opt, temperature_K=300)\n",
    "#mddyn_eql = NVTBerendsen(structure, timestep=0.5 * units.fs, temperature_K=300, taut=10 * units.fs, trajectory='equil.traj', logfile='equil.log', append_trajectory=True)"
   ]
  },
  {
   "cell_type": "markdown",
   "id": "fd23f38d-0517-4818-98fa-d44a2864eea9",
   "metadata": {},
   "source": [
    "## 6. Post-Processing "
   ]
  },
  {
   "cell_type": "markdown",
   "id": "13f360a3-8edc-4e33-b198-602517e7abaa",
   "metadata": {},
   "source": [
    "### Energy Profile"
   ]
  },
  {
   "cell_type": "code",
   "execution_count": null,
   "id": "955fe158-a0bf-4787-8308-88e86931e8f8",
   "metadata": {},
   "outputs": [],
   "source": [
    "plt.figure()\n",
    "plt.plot(range(len(energies)), energies, marker='o')\n",
    "plt.xlabel('Optimization Step')\n",
    "plt.ylabel('Energy (eV)')\n",
    "plt.title('Geometry Optimization of Solvated benzene')\n",
    "plt.savefig(\"optimization_energy.png\")\n",
    "plt.show()"
   ]
  },
  {
   "cell_type": "markdown",
   "id": "026b725b-d3dc-4dfc-98dc-aaca322af62f",
   "metadata": {},
   "source": [
    "### View geometry optimized trajectory "
   ]
  },
  {
   "cell_type": "code",
   "execution_count": null,
   "id": "1654269e-6d03-49d7-aecc-fc94937ba5a3",
   "metadata": {
    "scrolled": true
   },
   "outputs": [],
   "source": [
    "frames = read('optimized.traj', index=':')\n",
    "opt = Trajectory('optimized.traj')[-1]\n",
    "opt.get_cell()\n",
    "view(frames, viewer=\"ngl\")\n"
   ]
  },
  {
   "cell_type": "markdown",
   "id": "fa4dea1c-77fd-47a0-a267-8ea8889fc71f",
   "metadata": {},
   "source": [
    "## 7. Why the effort? Why use ASE? "
   ]
  },
  {
   "cell_type": "markdown",
   "id": "5d6b21b2-1a44-4f66-8a30-820ae18b233d",
   "metadata": {},
   "source": [
    "1) Unified Python Interface\n",
    "2) Supports many calculators/backends\n",
    "3) Automation and Workflow control\n",
    "4) Reusability\n",
    "5) Built in optimization and dynamics\n",
    "6) Strong Community "
   ]
  },
  {
   "cell_type": "code",
   "execution_count": null,
   "id": "39a0f24b-fffe-42ab-ac55-85da31b1259a",
   "metadata": {},
   "outputs": [],
   "source": []
  }
 ],
 "metadata": {
  "kernelspec": {
   "display_name": "Python 3 (ipykernel)",
   "language": "python",
   "name": "python3"
  },
  "language_info": {
   "codemirror_mode": {
    "name": "ipython",
    "version": 3
   },
   "file_extension": ".py",
   "mimetype": "text/x-python",
   "name": "python",
   "nbconvert_exporter": "python",
   "pygments_lexer": "ipython3",
   "version": "3.11.2"
  }
 },
 "nbformat": 4,
 "nbformat_minor": 5
}
