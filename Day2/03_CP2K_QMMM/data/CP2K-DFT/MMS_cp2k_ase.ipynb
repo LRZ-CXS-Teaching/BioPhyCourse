{
 "cells": [
  {
   "cell_type": "markdown",
   "id": "acad00cd-a492-4ef7-ab73-dc5147621434",
   "metadata": {},
   "source": [
    "## **Introduction to Molecular Simulations using CP2K and ASE**"
   ]
  },
  {
   "cell_type": "markdown",
   "id": "68ae532f-aaf9-4186-bb30-26b63289211b",
   "metadata": {},
   "source": [
    "Below steps outline a minimal working example to simulate Hydrophosphoric acid interaction with water."
   ]
  },
  {
   "cell_type": "markdown",
   "id": "b745060f-a4e1-4011-8ef0-cbd11ba9a0da",
   "metadata": {},
   "source": [
    "### **AIM: Hydrophosphoric acid interaction with water**"
   ]
  },
  {
   "cell_type": "markdown",
   "id": "0053aae1-cc1e-4527-a4a0-40cf01b28e4b",
   "metadata": {},
   "source": [
    "### 1. Optional"
   ]
  },
  {
   "cell_type": "markdown",
   "id": "5d5af938-ac6a-47dc-9f86-185d093ec60b",
   "metadata": {},
   "source": [
    "#### Create a virtual environment and install required packages. "
   ]
  },
  {
   "cell_type": "code",
   "execution_count": 37,
   "id": "53dd4f51-484f-4b34-aa48-dcbca97b4d1f",
   "metadata": {},
   "outputs": [],
   "source": [
    "# Create a virtual environment using: python3 -m venv ~/.venv-ase-cp2k . Then pip3 install jupyterhub jupyterlab.\n",
    "# Then open this notebook using jupyter-notebook notebookname.ipynb\n",
    "#! pip3 install ase==3.25.0 mdanalysis==2.9.0\n",
    "#! pip3 install nglview==3.1.4\n",
    "#! pip3 install jupyter-ai[all]"
   ]
  },
  {
   "cell_type": "markdown",
   "id": "81c3c613-19e5-44df-93e8-5d47ad1466b7",
   "metadata": {},
   "source": [
    "#### Install cp2k"
   ]
  },
  {
   "cell_type": "code",
   "execution_count": 38,
   "id": "afa6fbaf-632a-473c-b7cd-2e64a9c5ec28",
   "metadata": {},
   "outputs": [],
   "source": [
    "# ! sudo apt-get install cp2k"
   ]
  },
  {
   "cell_type": "markdown",
   "id": "1fee0df1-633e-43f7-b1d8-429fda44c7a7",
   "metadata": {},
   "source": [
    "### 2. Import required libraries"
   ]
  },
  {
   "cell_type": "code",
   "execution_count": 39,
   "id": "92ecd936-d0e1-44ef-a65f-480d37a02b0d",
   "metadata": {},
   "outputs": [],
   "source": [
    "import os\n",
    "import numpy as np\n",
    "import nglview as nv\n",
    "import matplotlib.pyplot as plt\n",
    "from ase import Atoms\n",
    "from ase.build import molecule, add_adsorbate\n",
    "from ase.io import write, read\n",
    "from ase.visualize import view\n",
    "from ase.md.velocitydistribution import MaxwellBoltzmannDistribution\n",
    "from ase.md.verlet import VelocityVerlet\n",
    "from ase.md.langevin import Langevin\n",
    "from ase.md.nvtberendsen import NVTBerendsen\n",
    "from ase import units\n",
    "from ase.optimize import QuasiNewton, BFGS\n",
    "from ase.io.trajectory import Trajectory\n",
    "from ase.calculators.emt import EMT\n",
    "from ase.calculators.cp2k import CP2K\n",
    "from ase.build import fcc110\n",
    "from ase.constraints import FixAtoms\n",
    "from ase.optimize import QuasiNewton"
   ]
  },
  {
   "cell_type": "markdown",
   "id": "35d6842a-40cc-4b3c-a81a-9fbb726f0e9b",
   "metadata": {},
   "source": [
    "### 3. Modelling: Solvate Hydrophosphoric acid (H3PO4) with water"
   ]
  },
  {
   "cell_type": "markdown",
   "id": "1d39899e-9a3b-4e78-b53f-875be767565f",
   "metadata": {},
   "source": [
    "#### Read H3PO4 Molecule "
   ]
  },
  {
   "cell_type": "code",
   "execution_count": 40,
   "id": "1c349a7b-0f48-4945-a1cd-f4d5b7248f98",
   "metadata": {},
   "outputs": [
    {
     "data": {
      "application/vnd.jupyter.widget-view+json": {
       "model_id": "1fd16ce82a604f9eb82a956178b755c8",
       "version_major": 2,
       "version_minor": 0
      },
      "text/plain": [
       "NGLWidget()"
      ]
     },
     "metadata": {},
     "output_type": "display_data"
    }
   ],
   "source": [
    "# Load H3PO4 molecule\n",
    "H3PO4 = read(\"h3po4.xyz\")\n",
    "nv.show_ase(H3PO4)"
   ]
  },
  {
   "cell_type": "markdown",
   "id": "fd23f38d-0517-4818-98fa-d44a2864eea9",
   "metadata": {},
   "source": [
    "#### Solvate H3PO4"
   ]
  },
  {
   "cell_type": "markdown",
   "id": "9462e26d-2e4a-49b5-b575-0edb9a683e3c",
   "metadata": {},
   "source": [
    "##### Install packmol"
   ]
  },
  {
   "cell_type": "code",
   "execution_count": 41,
   "id": "7175f9a4-ec38-4566-adbb-602a0ad43d44",
   "metadata": {},
   "outputs": [
    {
     "name": "stdout",
     "output_type": "stream",
     "text": [
      "/home/di97gef/Documents/lrz/work/biophy_course/jupyternbs_mol_modeling_ai/final_notebooks/CP2K-DFT\n",
      "--2025-10-22 22:52:05--  https://github.com/m3g/packmol/archive/refs/tags/v21.0.1.tar.gz\n",
      "Resolving github.com (github.com)... 140.82.121.3\n",
      "Connecting to github.com (github.com)|140.82.121.3|:443... connected.\n",
      "HTTP request sent, awaiting response... 302 Found\n",
      "Location: https://codeload.github.com/m3g/packmol/tar.gz/refs/tags/v21.0.1 [following]\n",
      "--2025-10-22 22:52:05--  https://codeload.github.com/m3g/packmol/tar.gz/refs/tags/v21.0.1\n",
      "Resolving codeload.github.com (codeload.github.com)... 140.82.121.10\n",
      "Connecting to codeload.github.com (codeload.github.com)|140.82.121.10|:443... connected.\n",
      "HTTP request sent, awaiting response... 200 OK\n",
      "Length: unspecified [application/x-gzip]\n",
      "Saving to: ‘v21.0.1.tar.gz.7’\n",
      "\n",
      "v21.0.1.tar.gz.7        [ <=>                ] 615.72K  --.-KB/s    in 0.1s    \n",
      "\n",
      "2025-10-22 22:52:06 (5.15 MB/s) - ‘v21.0.1.tar.gz.7’ saved [630498]\n",
      "\n",
      "Setting compiler to /usr/bin/gfortran\n",
      " ------------------------------------------------------ \n",
      " Compiling packmol with /usr/bin/gfortran \n",
      " Flags: -O3 -march=native -funroll-loops \n",
      " ------------------------------------------------------ \n",
      " ------------------------------------------------------ \n",
      " Packmol succesfully built.\n",
      " ------------------------------------------------------ \n"
     ]
    }
   ],
   "source": [
    "work_path = os.getcwd()\n",
    "print(work_path)\n",
    "os.chdir(\"/tmp/\")\n",
    "! wget https://github.com/m3g/packmol/archive/refs/tags/v21.0.1.tar.gz\n",
    "! tar -xf v21.0.1.tar.gz\n",
    "os.chdir(\"/tmp/packmol-21.0.1\")\n",
    "! ./configure\n",
    "! make && make install > /dev/null 2>&1\n",
    "os.chdir(work_path)"
   ]
  },
  {
   "cell_type": "code",
   "execution_count": 42,
   "id": "6f05a498-fa7e-4ee7-8273-8654ccd1cf7c",
   "metadata": {},
   "outputs": [
    {
     "name": "stdout",
     "output_type": "stream",
     "text": [
      "/home/di97gef/Documents/lrz/work/biophy_course/jupyternbs_mol_modeling_ai/final_notebooks/CP2K-DFT\n"
     ]
    }
   ],
   "source": [
    "print(work_path)"
   ]
  },
  {
   "cell_type": "markdown",
   "id": "7954dda5-1af5-4ac3-8564-82626f65d955",
   "metadata": {},
   "source": [
    "##### Solvating "
   ]
  },
  {
   "cell_type": "code",
   "execution_count": 45,
   "id": "eb6592e6-69c0-4d9a-98fe-c24eded44e1f",
   "metadata": {},
   "outputs": [
    {
     "name": "stdout",
     "output_type": "stream",
     "text": [
      "\n",
      "################################################################################\n",
      "\n",
      " PACKMOL - Packing optimization for the automated generation of\n",
      " starting configurations for molecular dynamics simulations.\n",
      " \n",
      "                                                             Version 21.0.1 \n",
      "\n",
      "################################################################################\n",
      "\n",
      "  Packmol must be run with: packmol < inputfile.inp \n",
      "\n",
      "  Userguide at: http://m3g.iqm.unicamp.br/packmol \n",
      "\n",
      "  Reading input file... (Control-C aborts)\n",
      "  Types of coordinate files specified: xyz\n",
      "  Seed for random number generator:      1234567\n",
      "  Output file: solvated.xyz\n",
      "  Reading coordinate file: h3po4.xyz\n",
      "  Reading coordinate file: water.xyz\n",
      "  Number of independent structures:            2\n",
      "  The structures are: \n",
      "  Structure            1 :Model[1]: Jmol 14.32.83  2023-01-07 08:24(           8  atoms)\n",
      "  Structure            2 :Properties=species:S:1:pos:R:3 pbc=\"F F F\"(           3  atoms)\n",
      "  Maximum number of GENCAN loops for all molecule packing:          400\n",
      "  Distance tolerance:    2.0000000000000000     \n",
      "  Number of molecules of type            1 :            1\n",
      "  Number of molecules of type            2 :           50\n",
      "  Total number of restrictions:            2\n",
      "  Total number of atoms:          158\n",
      "  Molecule Model[1]: Jmol 14.32.83  2023-01-07 08:24(           1 ) will be fixed.\n",
      "  Total number of molecules:           51\n",
      "  Number of fixed molecules:            1\n",
      "  Number of free molecules:           50\n",
      "  Number of variables:          300\n",
      "  Total number of fixed atoms:            8\n",
      "  Maximum internal distance of type            1 :    1.5264780000000000     \n",
      "  All atoms must be within these coordinates: \n",
      "   x: [   -1000.0000000000000      ,    1000.0000000000000       ] \n",
      "   y: [   -999.20000000000005      ,    1000.8000000000000       ] \n",
      "   z: [   -999.58331339637164      ,    1000.4166866036284       ] \n",
      "  If the system is larger than this, increase the sidemax parameter. \n",
      "\n",
      "################################################################################\n",
      "\n",
      "  Building initial approximation ... \n",
      "\n",
      "################################################################################\n",
      "\n",
      "  Adjusting initial point to fit the constraints \n",
      "\n",
      "--------------------------------------------------------------------------------\n",
      "\n",
      "--------------------------------------------------------------------------------\n",
      "\n",
      "  Molecules of type:            2\n",
      "\n",
      "  Packing:|0                                                        100%|\n",
      "          |************\n",
      "\n",
      "  Restraint-only function value:    1.4721114930459881E-002\n",
      "  Maximum violation of the restraints:    8.3802035576935989E-003\n",
      "\n",
      "--------------------------------------------------------------------------------\n",
      "\n",
      "  Rescaling maximum and minimum coordinates... \n",
      "  Mininum and maximum coordinates after constraint fitting: \n",
      "   x: [   -3.5309177705505394E-002 ,    20.038895829672391       ] \n",
      "   y: [   -4.9235268734640061E-003 ,    20.091543451746663       ] \n",
      "   z: [   -2.2147018704626088E-002 ,    20.049050939203486       ] \n",
      "  Computing size of patches... \n",
      "  Number of cells in each direction and cell sides: \n",
      "   x:           11  cells of size    2.2249277279434452     \n",
      "   y:           11  cells of size    2.2269515435109208     \n",
      "   z:           11  cells of size    2.2246543598098283     \n",
      "  Cell-system length:   24.47421  24.49647  24.47120\n",
      "  Add fixed molecules to permanent arrays... \n",
      "  Reseting center of mass... \n",
      "\n",
      "--------------------------------------------------------------------------------\n",
      "\n",
      "  Setting initial trial coordinates ... \n",
      "\n",
      "--------------------------------------------------------------------------------\n",
      "\n",
      "--------------------------------------------------------------------------------\n",
      "\n",
      "  Molecules of type:            2\n",
      "  Adjusting random positions to fit the constraints. \n",
      "  Restraint-only function value:    1.3438398363490916E-003\n",
      "  Maximum violation of the restraints:    1.3438398363490916E-003\n",
      "\n",
      "################################################################################\n",
      "\n",
      "  Objective function at initial point:    145.05041578183514     \n",
      "\n",
      "################################################################################\n",
      "\n",
      "  Packing molecules of type:            2\n",
      "\n",
      "################################################################################\n",
      "\n",
      "\n",
      "--------------------------------------------------------------------------------\n",
      "\n",
      "  Starting GENCAN loop:            0\n",
      "  Scaling radii by:    1.1000000000000001     \n",
      "\n",
      "  Packing:|0                                                        100%|\n",
      "          |*********\n",
      "\n",
      "  Function value from last GENCAN loop: f = .00000E+00\n",
      "  Best function value before: f = .14505E+03\n",
      "  Improvement from best function value:    99.99 %\n",
      "  Improvement from last loop:    99.99 %\n",
      "  Maximum violation of target distance:     0.000000\n",
      "  Maximum violation of the constraints: .00000E+00\n",
      "  Current structure written to file: solvated.xyz\n",
      "--------------------------------------------------------------------------------\n",
      "  Packing solved for molecules of type           2\n",
      "  Objective function value:    0.0000000000000000     \n",
      "  Maximum violation of target distance:    0.0000000000000000     \n",
      "  Max. constraint violation:    0.0000000000000000     \n",
      "--------------------------------------------------------------------------------\n",
      "\n",
      "################################################################################\n",
      "\n",
      "  Packing all molecules together \n",
      "\n",
      "################################################################################\n",
      "\n",
      "\n",
      "  Initial approximation is a solution. Nothing to do. \n",
      "\n",
      "  Solution written to file: solvated.xyz\n",
      "\n",
      "################################################################################\n",
      "\n",
      "                                 Success! \n",
      "              Final objective function value: .36805E-01\n",
      "              Maximum violation of target distance:   0.000000\n",
      "              Maximum violation of the constraints: .00000E+00\n",
      "\n",
      "--------------------------------------------------------------------------------\n",
      "\n",
      "              Please cite this work if Packmol was useful: \n",
      "\n",
      "           L. Martinez, R. Andrade, E. G. Birgin, J. M. Martinez, \n",
      "         PACKMOL: A package for building initial configurations for\n",
      "                   molecular dynamics simulations. \n",
      "        Journal of Computational Chemistry, 30(13) pp. 2157-2164, 2009.\n",
      "                  https://doi.org/10.1002/jcc.21224\n",
      "\n",
      "################################################################################\n",
      "\n",
      "   Running time:    2.85899988E-03  seconds. \n",
      "\n",
      "--------------------------------------------------------------------------------\n",
      "\n",
      "\n"
     ]
    }
   ],
   "source": [
    "# create a single water molecule\n",
    "water = molecule('H2O')\n",
    "write('water.xyz', water)\n",
    "\n",
    "# Write packmol input file\n",
    "with open('packmol.inp', 'w') as f:\n",
    "    f.write(f\"\"\"\n",
    "tolerance 2.0\n",
    "filetype xyz\n",
    "output solvated.xyz\n",
    "\n",
    "structure h3po4.xyz\n",
    "  number 1\n",
    "  center\n",
    "  fixed 10. 10. 10. 0. 0. 0.\n",
    "end structure\n",
    "\n",
    "structure water.xyz\n",
    "  number 50\n",
    "  inside box 0. 0. 0. 20. 20. 20.\n",
    "end structure\n",
    "\"\"\")\n",
    "\n",
    "# Run packmol\n",
    "! /tmp/packmol-21.0.1/packmol < packmol.inp"
   ]
  },
  {
   "cell_type": "markdown",
   "id": "c2c7173e-6350-47e2-bc94-e9599d139da2",
   "metadata": {},
   "source": [
    "#### Read Solvated structure and add set cell dimensions"
   ]
  },
  {
   "cell_type": "code",
   "execution_count": 47,
   "id": "8c470c21-cb8b-4f0d-ac21-4ba308c3d4d8",
   "metadata": {},
   "outputs": [
    {
     "data": {
      "application/vnd.jupyter.widget-view+json": {
       "model_id": "fc6471e5942a4fc29976d8686aa9025c",
       "version_major": 2,
       "version_minor": 0
      },
      "text/plain": [
       "NGLWidget()"
      ]
     },
     "metadata": {},
     "output_type": "display_data"
    }
   ],
   "source": [
    "# Read solvated structure\n",
    "solvated = read('solvated.xyz')\n",
    "solvated.center(vacuum=5.0)\n",
    "solvated.set_pbc([True, True, True])\n",
    "nv.show_ase(solvated)\n",
    "write(sol)"
   ]
  },
  {
   "cell_type": "code",
   "execution_count": 19,
   "id": "fd73f224-cba3-4750-914d-4a63e68a2a98",
   "metadata": {},
   "outputs": [
    {
     "data": {
      "application/vnd.jupyter.widget-view+json": {
       "model_id": "a16854ef506d4793ae5840247e8093e3",
       "version_major": 2,
       "version_minor": 0
      },
      "text/plain": [
       "HBox(children=(NGLWidget(), VBox(children=(Dropdown(description='Show', options=('All', 'O', 'H', 'P'), value=…"
      ]
     },
     "execution_count": 19,
     "metadata": {},
     "output_type": "execute_result"
    }
   ],
   "source": [
    "# setup cell dimensions # while solvating with packmol we used 20 20 20 Ang as cell dimensions. But we can also do this for non crystal systems.\n",
    "solvated.set_cell([solvated.positions[:, 0].max() + 2, solvated.positions[:, 1].max() + 2, solvated.positions[:, 2].max() + 3, 90, 90, 90])\n",
    "solvated.set_pbc(True)\n",
    "view(solvated, viewer=\"ngl\")"
   ]
  },
  {
   "cell_type": "markdown",
   "id": "8b14a417-f75a-4d22-bb39-9e261eeee14b",
   "metadata": {},
   "source": [
    "### 4. Add CP2K Calculator"
   ]
  },
  {
   "cell_type": "code",
   "execution_count": 20,
   "id": "a0989bbc-e2bd-45bc-b42c-e68e851373b2",
   "metadata": {},
   "outputs": [],
   "source": [
    "inp = '''\n",
    "&FORCE_EVAL\n",
    "  &DFT\n",
    "    CHARGE 0\n",
    "    &MGRID\n",
    "      NGRIDS 4\n",
    "      REL_CUTOFF 30\n",
    "    &END MGRID\n",
    "    &QS\n",
    "      METHOD GPW\n",
    "      EPS_DEFAULT 1.0E-12\n",
    "      EXTRAPOLATION ASPC\n",
    "    &END QS\n",
    "    &SCF\n",
    "      SCF_GUESS RESTART\n",
    "      EPS_SCF 1.0E-8\n",
    "      CHOLESKY INVERSE\n",
    "      &DIAGONALIZATION\n",
    "    \tALGORITHM STANDARD\n",
    "      &END DIAGONALIZATION\n",
    "      &MIXING\n",
    "    \tMETHOD  BROYDEN_MIXING\n",
    "    \tALPHA   0.05\n",
    "    \tBETA    1.5\n",
    "    \tNBROYDEN 16\n",
    "      &END MIXING\n",
    "    &END SCF\n",
    "    &XC\n",
    "      &XC_FUNCTIONAL PBE\n",
    "      &END XC_FUNCTIONAL\n",
    "      &VDW_POTENTIAL\n",
    "\t    POTENTIAL_TYPE PAIR_POTENTIAL\n",
    "\t    &PAIR_POTENTIAL\n",
    "          PARAMETER_FILE_NAME dftd3.dat\n",
    "          TYPE DFTD3\n",
    "\t      CALCULATE_C9_TERM .TRUE.\n",
    "\t      REFERENCE_C9_TERM .TRUE.\n",
    "          REFERENCE_FUNCTIONAL PBE\n",
    "\t    &END PAIR_POTENTIAL\n",
    "      &END VDW_POTENTIAL\n",
    "    &END XC\n",
    "  &END DFT\n",
    "&END FORCE_EVAL\n",
    "\n",
    "&GLOBAL\n",
    "  RUN_TYPE GEO_OPT\n",
    "  PREFERRED_FFT_LIBRARY FFTW3\n",
    "  FFTW_PLAN_TYPE PATIENT\n",
    "  SAVE_MEM T\n",
    "  &DBCSR\n",
    "    MM_DRIVER BLAS\n",
    "  &END DBCSR\n",
    "  PREFERRED_DIAG_LIBRARY SL\n",
    "&END GLOBAL \n",
    "'''"
   ]
  },
  {
   "cell_type": "markdown",
   "id": "130552a2-55e2-478c-beb2-c478a3a99285",
   "metadata": {},
   "source": [
    "#### Assign calculator to atoms"
   ]
  },
  {
   "cell_type": "code",
   "execution_count": 21,
   "id": "4619e08c-3a6d-4b36-aeec-72c14caa344b",
   "metadata": {},
   "outputs": [],
   "source": [
    "# === Step 4: Set up CP2K calculator ===\n",
    "calc = CP2K(label='Solvate-H3PO4',\n",
    "            cutoff=250,\n",
    "            basis_set='SZV-MOLOPT-GTH',\n",
    "            pseudo_potential='auto',\n",
    "            charge=0,\n",
    "            xc='PBE',\n",
    "            print_level='LOW',\n",
    "            max_scf=20,\n",
    "            inp=inp)\n",
    "\n",
    "solvated.calc = calc\n",
    "# atoms.set_calculator(EMT())"
   ]
  },
  {
   "cell_type": "markdown",
   "id": "3eb8b566-6261-4c86-a0ac-4846d806c0bf",
   "metadata": {},
   "source": [
    "### 5. Run Geometry Optimization"
   ]
  },
  {
   "cell_type": "code",
   "execution_count": 23,
   "id": "db8e303c-ab59-436e-b65e-cd57299001a9",
   "metadata": {},
   "outputs": [
    {
     "name": "stdout",
     "output_type": "stream",
     "text": [
      "Running optimization...\n",
      " Energy | Epot = -4455.704 eV | Ekin = 0.000 eV | Etot = -4455.704 eV\n",
      " Energy | Epot = -6637.230 eV | Ekin = 0.000 eV | Etot = -6637.230 eV\n",
      " Energy | Epot = -7394.123 eV | Ekin = 0.000 eV | Etot = -7394.123 eV\n",
      "Simulation complete.\n"
     ]
    }
   ],
   "source": [
    "opt = BFGS(solvated, trajectory=\"optimized.traj\", append_trajectory=False, logfile=\"opt.log\")\n",
    "energies = []\n",
    "\n",
    "def print_status(a=solvated):\n",
    "    epot = a.get_potential_energy()\n",
    "    ekin = a.get_kinetic_energy()\n",
    "    energies.append(epot+ekin)\n",
    "    print(f' Energy | Epot = {epot:.3f} eV | Ekin = {ekin:.3f} eV | Etot = {epot+ekin:.3f} eV')\n",
    "\n",
    "# One can attach functions to modify the output\n",
    "opt.attach(print_status, interval=1)\n",
    "print(\"Running optimization...\")\n",
    "opt.run(fmax=0.02, steps=2)\n",
    "print(\"Simulation complete.\")"
   ]
  },
  {
   "cell_type": "markdown",
   "id": "13f360a3-8edc-4e33-b198-602517e7abaa",
   "metadata": {},
   "source": [
    "#### Energy profile: geometry optimization"
   ]
  },
  {
   "cell_type": "code",
   "execution_count": 24,
   "id": "955fe158-a0bf-4787-8308-88e86931e8f8",
   "metadata": {},
   "outputs": [
    {
     "data": {
      "image/png": "[encoded data removed]",
      "text/plain": [
       "<Figure size 640x480 with 1 Axes>"
      ]
     },
     "metadata": {},
     "output_type": "display_data"
    }
   ],
   "source": [
    "plt.figure()\n",
    "plt.plot(range(len(energies)), energies, marker='o')\n",
    "plt.xlabel('Optimization Step')\n",
    "plt.ylabel('Energy (eV)')\n",
    "plt.title('Geometry Optimization of Solvated benzene')\n",
    "plt.savefig(\"optimization_energy.png\")\n",
    "plt.show()"
   ]
  },
  {
   "cell_type": "markdown",
   "id": "026b725b-d3dc-4dfc-98dc-aaca322af62f",
   "metadata": {},
   "source": [
    "#### Read geometry optimized trajectory "
   ]
  },
  {
   "cell_type": "code",
   "execution_count": 25,
   "id": "1654269e-6d03-49d7-aecc-fc94937ba5a3",
   "metadata": {
    "scrolled": true
   },
   "outputs": [
    {
     "data": {
      "application/vnd.jupyter.widget-view+json": {
       "model_id": "7054c2d4a6c6439fa02baf816895f553",
       "version_major": 2,
       "version_minor": 0
      },
      "text/plain": [
       "HBox(children=(NGLWidget(max_frame=2), VBox(children=(Dropdown(description='Show', options=('All', 'O', 'H', '…"
      ]
     },
     "execution_count": 25,
     "metadata": {},
     "output_type": "execute_result"
    }
   ],
   "source": [
    "frames = read('optimized.traj', index=':')\n",
    "opt = Trajectory('optimized.traj')[-1]\n",
    "opt.get_cell()\n",
    "view(frames, viewer=\"ngl\")"
   ]
  },
  {
   "cell_type": "markdown",
   "id": "dd6fe726-a349-4ad5-8077-d495e3ec19e0",
   "metadata": {},
   "source": [
    "### 6. Run Molecular Dynamics "
   ]
  },
  {
   "cell_type": "markdown",
   "id": "20bac314-f122-42c9-b9d9-52b0f7a90adc",
   "metadata": {},
   "source": [
    "#### Equilibration: Relax into a stable state before data collection"
   ]
  },
  {
   "cell_type": "code",
   "execution_count": 26,
   "id": "5e89f993-ffe7-4de4-b3e2-e6e2a8471db1",
   "metadata": {},
   "outputs": [],
   "source": [
    "inp_md = '''\n",
    "&FORCE_EVAL\n",
    "  &DFT\n",
    "    CHARGE 0\n",
    "    &MGRID\n",
    "      NGRIDS 4\n",
    "      REL_CUTOFF 30\n",
    "    &END MGRID\n",
    "    &QS\n",
    "      METHOD GPW\n",
    "      EPS_DEFAULT 1.0E-12\n",
    "      EXTRAPOLATION ASPC\n",
    "    &END QS\n",
    "    &SCF\n",
    "      SCF_GUESS RESTART\n",
    "      EPS_SCF 1.0E-8\n",
    "      CHOLESKY INVERSE\n",
    "      &DIAGONALIZATION\n",
    "    \tALGORITHM STANDARD\n",
    "      &END DIAGONALIZATION\n",
    "      &MIXING\n",
    "    \tMETHOD  BROYDEN_MIXING\n",
    "    \tALPHA   0.05\n",
    "    \tBETA    1.5\n",
    "    \tNBROYDEN 16\n",
    "      &END MIXING\n",
    "    &END SCF\n",
    "    &XC\n",
    "      &XC_FUNCTIONAL PBE\n",
    "      &END XC_FUNCTIONAL\n",
    "      &VDW_POTENTIAL\n",
    "\t    POTENTIAL_TYPE PAIR_POTENTIAL\n",
    "\t    &PAIR_POTENTIAL\n",
    "          PARAMETER_FILE_NAME dftd3.dat\n",
    "          TYPE DFTD3\n",
    "\t      CALCULATE_C9_TERM .TRUE.\n",
    "\t      REFERENCE_C9_TERM .TRUE.\n",
    "          REFERENCE_FUNCTIONAL PBE\n",
    "\t    &END PAIR_POTENTIAL\n",
    "      &END VDW_POTENTIAL\n",
    "    &END XC\n",
    "  &END DFT\n",
    "&END FORCE_EVAL\n",
    "\n",
    "&GLOBAL\n",
    "  RUN_TYPE MD\n",
    "  PREFERRED_FFT_LIBRARY FFTW3\n",
    "  FFTW_PLAN_TYPE PATIENT\n",
    "  SAVE_MEM T\n",
    "  &DBCSR\n",
    "    MM_DRIVER BLAS\n",
    "  &END DBCSR\n",
    "  PREFERRED_DIAG_LIBRARY SL\n",
    "&END GLOBAL \n",
    "'''"
   ]
  },
  {
   "cell_type": "markdown",
   "id": "a32dacf7-00b0-414c-9593-d9700e037638",
   "metadata": {},
   "source": [
    "#### Create MD calculator for equilibration"
   ]
  },
  {
   "cell_type": "code",
   "execution_count": 27,
   "id": "78ad8a9a-146a-49ba-866f-70b58caffb43",
   "metadata": {},
   "outputs": [],
   "source": [
    "calc_equil_md = CP2K(label='equil',\n",
    "            cutoff=250,\n",
    "            basis_set='SZV-MOLOPT-GTH',\n",
    "            pseudo_potential='auto',\n",
    "            charge=0,\n",
    "            xc='PBE',\n",
    "            print_level='LOW',\n",
    "            max_scf=20,\n",
    "            inp=inp_md)\n",
    "\n",
    "opt.calc = calc_equil_md"
   ]
  },
  {
   "cell_type": "markdown",
   "id": "6525249f-81f1-4093-8107-f86247724e24",
   "metadata": {},
   "source": [
    "#### Run Equilibration MD"
   ]
  },
  {
   "cell_type": "code",
   "execution_count": 28,
   "id": "7c671f6e-3b7a-42f0-8f58-ec1c595ca704",
   "metadata": {
    "editable": true,
    "slideshow": {
     "slide_type": ""
    },
    "tags": []
   },
   "outputs": [
    {
     "name": "stdout",
     "output_type": "stream",
     "text": [
      "Running MD simulation...\n",
      "Simulation complete.\n"
     ]
    }
   ],
   "source": [
    "MaxwellBoltzmannDistribution(opt, temperature_K=300)\n",
    "mddyn_eql = NVTBerendsen(opt, timestep=0.5 * units.fs, temperature_K=300, taut=10 * units.fs, trajectory='equil.traj', logfile='equil.log', append_trajectory=True)\n",
    "print(\"Running MD simulation...\")\n",
    "mddyn_eql.run(2)  # 200 steps = 100 fs\n",
    "print(\"Simulation complete.\")\n",
    "\n",
    "# md_dyn = Langevin(opt.atoms, timestep=0.5 * units.fs, temperature_K=300.0, friction=0.01 / units.fs, trajectory='MDrun.traj')  # 0.5 fs\n",
    "# mddyn = NVTBerendsen(opt.atoms, timestep = 0.5 * units.fs, temperature_K= 300.0, taut=0.5*1000*units.fs)\n",
    "# mddyn = VelocityVerlet(optimized_snapshot, timestep = 0.5 * units.fs) \n",
    "# def print_status(a=atoms):\n",
    "#    epot = a.get_potential_energy()\n",
    "#    ekin = a.get_kinetic_energy()\n",
    "#    print(f'Energy | Epot = {epot:.3f} eV | Ekin = {ekin:.3f} eV | Etot = {epot+ekin:.3f} eV')\n",
    "# mddyn.attach(print_status, interval=1)"
   ]
  },
  {
   "cell_type": "markdown",
   "id": "17db1b75-6a56-4e8c-8b91-a138ebfd996c",
   "metadata": {},
   "source": [
    "#### Create MD calculator for production"
   ]
  },
  {
   "cell_type": "code",
   "execution_count": 32,
   "id": "7588af1a-cf92-40e2-9f87-43cb2a521dd1",
   "metadata": {},
   "outputs": [],
   "source": [
    "calc_md = CP2K(label='prod',\n",
    "            cutoff=250,\n",
    "            basis_set='SZV-MOLOPT-GTH',\n",
    "            pseudo_potential='auto',\n",
    "            charge=0,\n",
    "            xc='PBE',\n",
    "            print_level='LOW',\n",
    "            max_scf=20,\n",
    "            inp=inp_md)"
   ]
  },
  {
   "cell_type": "markdown",
   "id": "d6873510-c069-4d69-bc9f-364f49bc081a",
   "metadata": {},
   "source": [
    "#### Run Production MD "
   ]
  },
  {
   "cell_type": "code",
   "execution_count": 33,
   "id": "6bf4a0be-e5a5-42c1-bf97-6e4ee7b7d966",
   "metadata": {},
   "outputs": [
    {
     "data": {
      "text/plain": [
       "True"
      ]
     },
     "execution_count": 33,
     "metadata": {},
     "output_type": "execute_result"
    }
   ],
   "source": [
    "equil_traj= Trajectory('equil.traj')\n",
    "equilibrated = equil_traj[-1]\n",
    "\n",
    "equilibrated.calc = calc_md\n",
    "proddyn = VelocityVerlet(equilibrated, timestep=0.5 * units.fs,\n",
    "                         trajectory='prod.traj', logfile='prod.log', append_trajectory=True)\n",
    "\n",
    "#proddyn.run(200000) #200ps\n",
    "proddyn.run(2) #200ps"
   ]
  },
  {
   "cell_type": "markdown",
   "id": "d3709bed-bde4-4429-9ad4-6d18122ec3fe",
   "metadata": {},
   "source": [
    "### 7. Visualize trajectory"
   ]
  },
  {
   "cell_type": "code",
   "execution_count": 35,
   "id": "580a53f7-b4ea-4909-a136-3ec0a2a2a033",
   "metadata": {},
   "outputs": [
    {
     "data": {
      "application/vnd.jupyter.widget-view+json": {
       "model_id": "5d461ccadcc142b085cdbee195c090b4",
       "version_major": 2,
       "version_minor": 0
      },
      "text/plain": [
       "HBox(children=(NGLWidget(max_frame=2), VBox(children=(Dropdown(description='Show', options=('All', 'O', 'H', '…"
      ]
     },
     "execution_count": 35,
     "metadata": {},
     "output_type": "execute_result"
    }
   ],
   "source": [
    "frames = read('prod.traj', index=':')\n",
    "view(frames, viewer=\"ngl\")"
   ]
  },
  {
   "cell_type": "markdown",
   "id": "f1b69ec9-32ff-4ae3-aac0-a9b9405231e5",
   "metadata": {},
   "source": [
    "### 8. Postprocessing"
   ]
  },
  {
   "cell_type": "code",
   "execution_count": 36,
   "id": "6fa91796-8f91-4f10-bba1-d5fdf36137f1",
   "metadata": {},
   "outputs": [
    {
     "data": {
      "image/png": "[encoded data removed]",
      "text/plain": [
       "<Figure size 640x480 with 1 Axes>"
      ]
     },
     "metadata": {},
     "output_type": "display_data"
    }
   ],
   "source": [
    "plt.figure()\n",
    "plt.plot(range(len(energies)), energies, marker='o')\n",
    "plt.xlabel('MD Step')\n",
    "plt.ylabel('Energy (eV)')\n",
    "plt.title('MD simulation of Solvated H3PO4')\n",
    "plt.savefig(\"MD_energyprofile.png\")\n",
    "plt.show()"
   ]
  },
  {
   "cell_type": "code",
   "execution_count": null,
   "id": "0e7c92ab-9c75-4e5d-a7b6-aac230569f8b",
   "metadata": {},
   "outputs": [],
   "source": []
  }
 ],
 "metadata": {
  "kernelspec": {
   "display_name": "Python 3 (ipykernel)",
   "language": "python",
   "name": "python3"
  },
  "language_info": {
   "codemirror_mode": {
    "name": "ipython",
    "version": 3
   },
   "file_extension": ".py",
   "mimetype": "text/x-python",
   "name": "python",
   "nbconvert_exporter": "python",
   "pygments_lexer": "ipython3",
   "version": "3.11.2"
  }
 },
 "nbformat": 4,
 "nbformat_minor": 5
}
